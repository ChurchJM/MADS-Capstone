{
  "nbformat": 4,
  "nbformat_minor": 0,
  "metadata": {
    "colab": {
      "name": "Capstone Data Preparation (Final).ipynb",
      "provenance": [],
      "collapsed_sections": [
        "05AMmrBWo8K9"
      ]
    },
    "kernelspec": {
      "display_name": "Python 3",
      "name": "python3"
    },
    "language_info": {
      "name": "python"
    }
  },
  "cells": [
    {
      "cell_type": "markdown",
      "metadata": {
        "id": "e8-FJwVmtCkd"
      },
      "source": [
        "## Classification of Seismic Events Using Unsupervised Machine Learning\n",
        "### Data Preparation Section\n",
        "#### By Jeff Church (churchjm@umich.edu), Dongdong Yao (dongdony@umich.edu), and Yihe Huang (yiheh@umich.edu)\n",
        "\n",
        "This notebook prepares two datasets retrieved from the [TA:O53A](http://ds.iris.edu/mda/TA/O53A/?starttime=2012-12-13T00:00:00&endtime=2018-09-27T23:59:59) seismograph station located in New Philadelphia, OH.  The first is a labeled dataset containing 1,251 induced earthquakes and 5,152 mining blasts recorded between 2013-2018.  The second dataset is comprised of 7,398 unlabeled events automatically \"picked\" by the [PhaseNet](https://arxiv.org/abs/1803.03211) tool.  The PhaseNet dataset spans 2013-2016.\n",
        "\n",
        "STFT spectrograms are also computed for each event in both datasets.\n",
        "\n",
        "Onset times of labeled events are stored in the blasts.list and inducedEQ.list files.  PhaseNet picks are already downloaded and stored in .SAC files.  These three files are the \"starting point\" of the project.\n",
        "\n",
        "**All data files used by this notebook can be downloaded [here](https://drive.google.com/drive/folders/1-Eex84NC7S8D0qj-rliZ34Xw5-PKQuaS?usp=sharing).**"
      ]
    },
    {
      "cell_type": "markdown",
      "metadata": {
        "id": "05AMmrBWo8K9"
      },
      "source": [
        "# Functions and Settings"
      ]
    },
    {
      "cell_type": "code",
      "metadata": {
        "colab": {
          "base_uri": "https://localhost:8080/"
        },
        "id": "vORD3qXMjOeQ",
        "outputId": "2a59a682-6b1c-41ca-fcb6-e51e7f3b5b9d"
      },
      "source": [
        "# NOTE: If running this notebook in Google Colab, the runtime must be restarted after installing obspy to avoid errors.\n",
        "!pip install obspy"
      ],
      "execution_count": null,
      "outputs": [
        {
          "output_type": "stream",
          "text": [
            "Requirement already satisfied: obspy in /usr/local/lib/python3.7/dist-packages (1.2.2)\n",
            "Requirement already satisfied: decorator in /usr/local/lib/python3.7/dist-packages (from obspy) (4.4.2)\n",
            "Requirement already satisfied: matplotlib>=1.1.0 in /usr/local/lib/python3.7/dist-packages (from obspy) (3.2.2)\n",
            "Requirement already satisfied: sqlalchemy in /usr/local/lib/python3.7/dist-packages (from obspy) (1.4.22)\n",
            "Requirement already satisfied: future>=0.12.4 in /usr/local/lib/python3.7/dist-packages (from obspy) (0.16.0)\n",
            "Requirement already satisfied: setuptools in /usr/local/lib/python3.7/dist-packages (from obspy) (57.4.0)\n",
            "Requirement already satisfied: lxml in /usr/local/lib/python3.7/dist-packages (from obspy) (4.2.6)\n",
            "Requirement already satisfied: numpy>=1.6.1 in /usr/local/lib/python3.7/dist-packages (from obspy) (1.19.5)\n",
            "Requirement already satisfied: scipy>=0.9.0 in /usr/local/lib/python3.7/dist-packages (from obspy) (1.4.1)\n",
            "Requirement already satisfied: requests in /usr/local/lib/python3.7/dist-packages (from obspy) (2.23.0)\n",
            "Requirement already satisfied: cycler>=0.10 in /usr/local/lib/python3.7/dist-packages (from matplotlib>=1.1.0->obspy) (0.10.0)\n",
            "Requirement already satisfied: pyparsing!=2.0.4,!=2.1.2,!=2.1.6,>=2.0.1 in /usr/local/lib/python3.7/dist-packages (from matplotlib>=1.1.0->obspy) (2.4.7)\n",
            "Requirement already satisfied: kiwisolver>=1.0.1 in /usr/local/lib/python3.7/dist-packages (from matplotlib>=1.1.0->obspy) (1.3.1)\n",
            "Requirement already satisfied: python-dateutil>=2.1 in /usr/local/lib/python3.7/dist-packages (from matplotlib>=1.1.0->obspy) (2.8.2)\n",
            "Requirement already satisfied: six in /usr/local/lib/python3.7/dist-packages (from cycler>=0.10->matplotlib>=1.1.0->obspy) (1.15.0)\n",
            "Requirement already satisfied: certifi>=2017.4.17 in /usr/local/lib/python3.7/dist-packages (from requests->obspy) (2021.5.30)\n",
            "Requirement already satisfied: idna<3,>=2.5 in /usr/local/lib/python3.7/dist-packages (from requests->obspy) (2.10)\n",
            "Requirement already satisfied: urllib3!=1.25.0,!=1.25.1,<1.26,>=1.21.1 in /usr/local/lib/python3.7/dist-packages (from requests->obspy) (1.24.3)\n",
            "Requirement already satisfied: chardet<4,>=3.0.2 in /usr/local/lib/python3.7/dist-packages (from requests->obspy) (3.0.4)\n",
            "Requirement already satisfied: importlib-metadata in /usr/local/lib/python3.7/dist-packages (from sqlalchemy->obspy) (4.6.4)\n",
            "Requirement already satisfied: greenlet!=0.4.17 in /usr/local/lib/python3.7/dist-packages (from sqlalchemy->obspy) (1.1.1)\n",
            "Requirement already satisfied: zipp>=0.5 in /usr/local/lib/python3.7/dist-packages (from importlib-metadata->sqlalchemy->obspy) (3.5.0)\n",
            "Requirement already satisfied: typing-extensions>=3.6.4 in /usr/local/lib/python3.7/dist-packages (from importlib-metadata->sqlalchemy->obspy) (3.7.4.3)\n"
          ],
          "name": "stdout"
        }
      ]
    },
    {
      "cell_type": "code",
      "metadata": {
        "colab": {
          "base_uri": "https://localhost:8080/"
        },
        "id": "qBSRQa6efX0f",
        "outputId": "955f06e8-7b90-485e-fd34-9750325f1be3"
      },
      "source": [
        "from google.colab import drive\n",
        "drive.mount('/content/drive')"
      ],
      "execution_count": null,
      "outputs": [
        {
          "output_type": "stream",
          "text": [
            "Drive already mounted at /content/drive; to attempt to forcibly remount, call drive.mount(\"/content/drive\", force_remount=True).\n"
          ],
          "name": "stdout"
        }
      ]
    },
    {
      "cell_type": "code",
      "metadata": {
        "id": "CkNvghRlfdLd"
      },
      "source": [
        "import os\n",
        "import numpy as np\n",
        "from scipy import signal\n",
        "\n",
        "import obspy\n",
        "from obspy import read\n",
        "from obspy import UTCDateTime\n",
        "from obspy.clients.fdsn import Client\n",
        "\n",
        "import matplotlib.pyplot as plt"
      ],
      "execution_count": null,
      "outputs": []
    },
    {
      "cell_type": "code",
      "metadata": {
        "id": "TqdHuhQ9Tyq0"
      },
      "source": [
        "ROOT_PATH = r'/content/drive/Shared drives/Capstone/Data'\n",
        "\n",
        "LABELED_PATH = f'{ROOT_PATH}/Labeled EQ and Blasts'\n",
        "PHASENET_PATH = f'{ROOT_PATH}/PhaseNet Picks'\n",
        "\n",
        "SAMPLE_RATE = 100.0\n",
        "\n",
        "client = Client('IRIS')"
      ],
      "execution_count": null,
      "outputs": []
    },
    {
      "cell_type": "code",
      "metadata": {
        "id": "QN8yV01fT-37"
      },
      "source": [
        "f_blast = open(LABELED_PATH + r'/blasts.list', 'r')\n",
        "lines_blast = f_blast.readlines()\n",
        "\n",
        "dts_blast = []\n",
        "for line in lines_blast:\n",
        "  dts_blast.append(UTCDateTime(line[:-1]))\n",
        "\n",
        "f_blast.close()\n",
        "\n",
        "f_eq = open(LABELED_PATH + r'/inducedEQ.list', 'r')\n",
        "lines_eq = f_eq.readlines()\n",
        "\n",
        "dts_eq = []\n",
        "for line in lines_eq:\n",
        "  dts_eq.append(UTCDateTime(line[:-1]))\n",
        "\n",
        "f_eq.close()"
      ],
      "execution_count": null,
      "outputs": []
    },
    {
      "cell_type": "code",
      "metadata": {
        "id": "ElztAGIuPKOM"
      },
      "source": [
        "def download_waveforms(dts):\n",
        "  wforms = []\n",
        "  wforms_downsample = []\n",
        "  timestamps = []\n",
        "\n",
        "  i = 0\n",
        "  for dt in dts:\n",
        "    try:\n",
        "      st_raw = client.get_waveforms(network='TA',station='O53A',location='--',channel='BH?',\n",
        "                                  starttime=dt,endtime=dt+30,attach_response=True)\n",
        "\n",
        "      pre_filt = (0.01,0.02,18,20) \n",
        "      st_raw.remove_response(pre_filt=pre_filt, output='VEL')\n",
        "      \n",
        "      st_downsample = st_raw.copy()\n",
        "      st_downsample.filter('highpass', freq=1.0)\n",
        "      st_downsample.decimate(2) # 20Hz for d3.js tooltip chart (to keep .json file small)\n",
        "\n",
        "      st = st_raw.copy()\n",
        "      st.interpolate(sampling_rate=SAMPLE_RATE)\n",
        "      st.filter('bandpass', freqmin=1.0, freqmax=20.0, corners=2, zerophase=True)\n",
        "\n",
        "      E = st[0].data\n",
        "      if len(E) != 3001:\n",
        "        num_zeros = 3001-len(E)\n",
        "        E = np.append(E, np.zeros((1,num_zeros), dtype=E.dtype))\n",
        "      \n",
        "      E_downsample = st_downsample[0].data\n",
        "      if len(E_downsample) != 601:\n",
        "        num_zeros = 601-len(E_downsample)\n",
        "        E_downsample = np.append(E_downsample, np.zeros((1,num_zeros), dtype=E_downsample.dtype))\n",
        "\n",
        "      N = st[1].data\n",
        "      if len(N) != 3001:\n",
        "        num_zeros = 3001-len(N)\n",
        "        N = np.append(N, np.zeros((1,num_zeros), dtype=N.dtype))\n",
        "      \n",
        "      N_downsample = st_downsample[1].data\n",
        "      if len(N_downsample) != 601:\n",
        "        num_zeros = 601-len(N_downsample)\n",
        "        N_downsample = np.append(N_downsample, np.zeros((1,num_zeros), dtype=N_downsample.dtype))\n",
        "\n",
        "      Z = st[2].data\n",
        "      if len(Z) != 3001:\n",
        "        num_zeros = 3001-len(Z)\n",
        "        Z = np.append(Z, np.zeros((1,num_zeros), dtype=Z.dtype))\n",
        "      \n",
        "      Z_downsample = st_downsample[2].data\n",
        "      if len(Z_downsample) != 601:\n",
        "        num_zeros = 601-len(Z_downsample)\n",
        "        Z_downsample = np.append(Z_downsample, np.zeros((1,num_zeros), dtype=Z_downsample.dtype))\n",
        "\n",
        "      wforms.append(np.asarray([E, N, Z]))\n",
        "      wforms_downsample.append(np.asarray([E_downsample, N_downsample, Z_downsample]))\n",
        "      timestamps.append(st[0].times(type=\"timestamp\")[0])\n",
        "\n",
        "      i += 1\n",
        "      if i%100==0:\n",
        "        print(f'{i} events downloaded.')\n",
        "    except Exception as ex:\n",
        "      print(ex)\n",
        "\n",
        "  wforms_arr = np.asarray(wforms)\n",
        "  wforms_downsample_arr = np.asarray(wforms_downsample)\n",
        "  timestamps_arr = np.asarray(timestamps)\n",
        "\n",
        "  return (wforms_arr, wforms_downsample_arr, timestamps_arr)\n"
      ],
      "execution_count": null,
      "outputs": []
    },
    {
      "cell_type": "code",
      "metadata": {
        "id": "_5sa5niLHvyk"
      },
      "source": [
        "def compute_stft_spectrograms(wforms):\n",
        "  max = 0.0\n",
        "  spectrograms = []\n",
        "\n",
        "  for wform in wforms:\n",
        "    Z = wform[2,:]\n",
        "    Z = Z/np.max(Z)\n",
        "    f, t, Zxx = signal.stft(Z, fs = 100.0, nperseg=94) # These params produce spectrogram of shape 16x48, as required by Mousavi's model\n",
        "    spec = np.abs(Zxx)\n",
        "    spec = spec[:, :-1]\n",
        "\n",
        "    spec_max = np.amax(spec)\n",
        "    if spec_max > max:\n",
        "      max = spec_max\n",
        "\n",
        "    if spec.shape != (48,64):\n",
        "      print(f'ERROR. Spectrogram shape {spec.shape} incorrect.')\n",
        "    spectrograms.append(spec)\n",
        "\n",
        "  spectrograms_arr = np.asarray(spectrograms)\n",
        "  spectrograms_arr = spectrograms_arr/max # normalize spectrograms by max value in data set, as recommended by Dr. Mousavi\n",
        "\n",
        "  return spectrograms_arr"
      ],
      "execution_count": null,
      "outputs": []
    },
    {
      "cell_type": "markdown",
      "metadata": {
        "id": "cuirfzfeoyn2"
      },
      "source": [
        "# Effects of pre-filtering and bandpass filtering data retrieved from obspy"
      ]
    },
    {
      "cell_type": "code",
      "metadata": {
        "id": "RbPSKCorM381"
      },
      "source": [
        "# dt_sampleday_start = UTCDateTime(2013,9,9)\n",
        "# dt_sampleday_end = UTCDateTime(2013,9,10)\n",
        "\n",
        "# dt_sampleshort_start = UTCDateTime(2013,9,9,12,35,0)\n",
        "# dt_sampleshort_end = UTCDateTime(2013,9,9,12,35,15)\n",
        "\n",
        "# st_sampleday_raw = client.get_waveforms(network='TA',station='O53A',location='--',channel='BH?',\n",
        "#                                   starttime=dt_sampleday_start,endtime=dt_sampleday_end,attach_response=True)\n",
        "\n",
        "# st_sampleshort_raw = client.get_waveforms(network='TA',station='O53A',location='--',channel='BH?',\n",
        "#                                   starttime=dt_sampleshort_start,endtime=dt_sampleshort_end,attach_response=True)\n",
        "\n",
        "# pre_filt = (0.01,0.02,18,20)"
      ],
      "execution_count": null,
      "outputs": []
    },
    {
      "cell_type": "code",
      "metadata": {
        "id": "W9xtR8lTU_V7"
      },
      "source": [
        "# fig = plt.figure(figsize=(10,10))\n",
        "# plt.title('Effects of Signal Filtering')\n",
        "\n",
        "# fig.text(0.51, 0.255, 'Pre-filtering and bandpass filter', ha='center', fontsize=12)\n",
        "# fig.text(0.51, 0.415, 'Pre-filtering only', ha='center', fontsize=12)\n",
        "# fig.text(0.51, 0.575, 'Bandpass filtering only', ha='center', fontsize=12)\n",
        "# fig.text(0.51, 0.74, 'Response Removed (no filters)', ha='center', fontsize=12)\n",
        "# fig.text(0.51, 0.895, 'Raw data (no response removal)', ha='center', fontsize=12)\n",
        "\n",
        "# ax1 = plt.subplot(521)\n",
        "# ax1.axes.xaxis.set_visible(False)\n",
        "# ax2 = plt.subplot(522)\n",
        "# ax2.axes.xaxis.set_visible(False)\n",
        "# ax3 = plt.subplot(523)\n",
        "# ax3.axes.xaxis.set_visible(False)\n",
        "# ax4 = plt.subplot(524)\n",
        "# ax4.axes.xaxis.set_visible(False)\n",
        "# ax5 = plt.subplot(525)\n",
        "# ax5.axes.xaxis.set_visible(False)\n",
        "# ax6 = plt.subplot(526)\n",
        "# ax6.axes.xaxis.set_visible(False)\n",
        "# ax7 = plt.subplot(527)\n",
        "# ax7.axes.xaxis.set_visible(False)\n",
        "# ax8 = plt.subplot(528)\n",
        "# ax8.axes.xaxis.set_visible(False)\n",
        "# ax9 = plt.subplot(529)\n",
        "# ax9.axes.xaxis.set_visible(False)\n",
        "# ax10 = plt.subplot(5,2,10)\n",
        "# ax10.axes.xaxis.set_visible(False)\n",
        "\n",
        "# # Raw signal (response not removed)\n",
        "# ax1.plot(st_sampleday_raw[2].times(), st_sampleday_raw[2].data)\n",
        "# ax2.plot(st_sampleshort_raw[2].times(), st_sampleshort_raw[2].data)\n",
        "\n",
        "# # No pre-filtering or bandpass (response removed)\n",
        "# orig_day = st_sampleday_raw.copy()\n",
        "# orig_day.remove_response(output='VEL')\n",
        "# orig_short = st_sampleshort_raw.copy()\n",
        "# orig_short.remove_response(output='VEL')\n",
        "\n",
        "# ax3.plot(orig_day[2].times(), orig_day[2].data)\n",
        "# ax4.plot(orig_short[2].times(), orig_short[2].data)\n",
        "\n",
        "# # Bandpass filter only -- removes low freq artifacts\n",
        "# bandpass_day = st_sampleday_raw.copy()\n",
        "# bandpass_day.remove_response(output='VEL')\n",
        "# bandpass_day.interpolate(sampling_rate=SAMPLE_RATE)\n",
        "# bandpass_day.filter('bandpass', freqmin=1.0, freqmax=20.0, corners=2, zerophase=True)\n",
        "\n",
        "# bandpass_short = st_sampleshort_raw.copy()\n",
        "# bandpass_short.remove_response(output='VEL')\n",
        "# bandpass_short.interpolate(sampling_rate=SAMPLE_RATE)\n",
        "# bandpass_short.filter('bandpass', freqmin=1.0, freqmax=20.0, corners=2, zerophase=True)\n",
        "\n",
        "# ax5.plot(bandpass_day[2].times(), bandpass_day[2].data)\n",
        "# ax6.plot(bandpass_short[2].times(), bandpass_short[2].data)\n",
        "\n",
        "# # pre-filt only\n",
        "# prefilt_day = st_sampleday_raw.copy()\n",
        "# prefilt_day.remove_response(pre_filt=pre_filt, output='VEL')\n",
        "# prefilt_short = st_sampleshort_raw.copy()\n",
        "# prefilt_short.remove_response(pre_filt=pre_filt, output='VEL')\n",
        "\n",
        "# ax7.plot(prefilt_day[2].times(), prefilt_day[2].data)\n",
        "# ax8.plot(prefilt_short[2].times(), prefilt_short[2].data)\n",
        "\n",
        "# # pre-filt and bandpass\n",
        "# both_day = st_sampleday_raw.copy()\n",
        "# both_day.remove_response(pre_filt=pre_filt, output='VEL')\n",
        "# both_day.interpolate(sampling_rate=SAMPLE_RATE)\n",
        "# both_day.filter('bandpass', freqmin=1.0, freqmax=20.0, corners=2, zerophase=True)\n",
        "# both_short = st_sampleshort_raw.copy()\n",
        "# both_short.remove_response(pre_filt=pre_filt, output='VEL')\n",
        "# both_short.interpolate(sampling_rate=SAMPLE_RATE)\n",
        "# both_short.filter('bandpass', freqmin=1.0, freqmax=20.0, corners=2, zerophase=True)\n",
        "\n",
        "# ax9.plot(both_day[2].times(), both_day[2].data)\n",
        "# ax10.plot(both_short[2].times(), both_short[2].data)\n",
        "\n",
        "# plt.subplots_adjust(hspace=0.5);\n",
        "# plt.subplots_adjust(wspace=0.1)"
      ],
      "execution_count": null,
      "outputs": []
    },
    {
      "cell_type": "markdown",
      "metadata": {
        "id": "aKYqByFZsOb2"
      },
      "source": [
        "# Load Labeled Dataset"
      ]
    },
    {
      "cell_type": "code",
      "metadata": {
        "colab": {
          "base_uri": "https://localhost:8080/"
        },
        "id": "eEtl9jiCWl63",
        "outputId": "dc3b8e19-0f51-47e0-c3d5-096ca7d0e34a"
      },
      "source": [
        "if not os.path.exists(f'{LABELED_PATH}/wforms_blast.npy'):\n",
        "  print('Saved .npy not found.  Downloading data...')\n",
        "  wforms_blast, wforms_blast_downsample, timestamps_blast = download_waveforms(dts_blast)\n",
        "  np.save(f'{LABELED_PATH}/wforms_blast', wforms_blast)\n",
        "  np.save(f'{LABELED_PATH}/wforms_blast_downsample', wforms_blast_downsample)\n",
        "  np.save(f'{LABELED_PATH}/timestamps_blast', timestamps_blast)\n",
        "else:\n",
        "  print('Loading saved .npy')\n",
        "  wforms_blast = np.load(f'{LABELED_PATH}/wforms_blast.npy')\n",
        "  wforms_blast_downsample = np.load(f'{LABELED_PATH}/wforms_blast_downsample.npy')\n",
        "  timestamps_blast = np.load(f'{LABELED_PATH}/timestamps_blast.npy')\n",
        "\n",
        "print(wforms_blast.shape)\n",
        "print(wforms_blast_downsample.shape)\n",
        "print(timestamps_blast.shape)"
      ],
      "execution_count": null,
      "outputs": [
        {
          "output_type": "stream",
          "text": [
            "Loading saved .npy\n",
            "(5152, 3, 3001)\n",
            "(5152, 3, 601)\n",
            "(5152,)\n"
          ],
          "name": "stdout"
        }
      ]
    },
    {
      "cell_type": "code",
      "metadata": {
        "colab": {
          "base_uri": "https://localhost:8080/"
        },
        "id": "oYoYh_CoLmDN",
        "outputId": "9d5482a4-5b51-4763-e959-1eca8530998e"
      },
      "source": [
        "if not os.path.exists(f'{LABELED_PATH}/wforms_eq.npy'):\n",
        "  print('Saved .npy not found.  Downloading data...')\n",
        "  wforms_eq, wforms_eq_downsample, timestamps_eq = download_waveforms(dts_eq)\n",
        "  np.save(f'{LABELED_PATH}/wforms_eq', wforms_eq)\n",
        "  np.save(f'{LABELED_PATH}/wforms_eq_downsample', wforms_eq_downsample)\n",
        "  np.save(f'{LABELED_PATH}/timestamps_eq', timestamps_eq)\n",
        "else:\n",
        "  print('Loading saved .npy')\n",
        "  wforms_eq = np.load(f'{LABELED_PATH}/wforms_eq.npy')\n",
        "  wforms_eq_downsample = np.load(f'{LABELED_PATH}/wforms_eq_downsample.npy')\n",
        "  timestamps_eq = np.load(f'{LABELED_PATH}/timestamps_eq.npy')\n",
        "\n",
        "print(wforms_eq.shape)\n",
        "print(wforms_eq_downsample.shape)\n",
        "print(timestamps_eq.shape)"
      ],
      "execution_count": null,
      "outputs": [
        {
          "output_type": "stream",
          "text": [
            "Loading saved .npy\n",
            "(1251, 3, 3001)\n",
            "(1251, 3, 601)\n",
            "(1251,)\n"
          ],
          "name": "stdout"
        }
      ]
    },
    {
      "cell_type": "code",
      "metadata": {
        "id": "uZnsBzV_SDAb",
        "colab": {
          "base_uri": "https://localhost:8080/",
          "height": 377
        },
        "outputId": "d9ccb825-fe2b-48f8-e33c-1413e35e0c5c"
      },
      "source": [
        "fig = plt.figure(figsize=(8,6))\n",
        "\n",
        "ax1 = plt.subplot(211)\n",
        "ax1.axes.xaxis.set_visible(False)\n",
        "ax2 = plt.subplot(212)\n",
        "ax2.axes.xaxis.set_visible(False)\n",
        "\n",
        "sample_eq = wforms_eq[500,2,:]\n",
        "ax1.plot(sample_eq)\n",
        "ax1.title.set_text('Sample Induced Earthquake')\n",
        "\n",
        "sample_blast = wforms_blast[500,2,:]\n",
        "ax2.plot(sample_blast)\n",
        "ax2.title.set_text('Sample Mining Blast');"
      ],
      "execution_count": null,
      "outputs": [
        {
          "output_type": "display_data",
          "data": {
            "image/png": "[encoded data removed]",
            "text/plain": [
              "<Figure size 576x432 with 2 Axes>"
            ]
          },
          "metadata": {
            "needs_background": "light"
          }
        }
      ]
    },
    {
      "cell_type": "code",
      "metadata": {
        "id": "9A-4dSMZTXO-",
        "colab": {
          "base_uri": "https://localhost:8080/"
        },
        "outputId": "0cab9cd6-339c-454c-a6b2-cbcede169e65"
      },
      "source": [
        "if not os.path.exists(f'{LABELED_PATH}/spectrograms_blast.npy'):\n",
        "  print('Saved .npy not found.  Computing spectrograms...')\n",
        "  spectrograms_blast = compute_stft_spectrograms(wforms_blast)\n",
        "  np.save(f'{LABELED_PATH}/spectrograms_blast', spectrograms_blast)\n",
        "else:\n",
        "  print('Loading saved .npy')\n",
        "  spectrograms_blast = np.load(f'{LABELED_PATH}/spectrograms_blast.npy')\n",
        "\n",
        "print(spectrograms_blast.shape)\n",
        "\n",
        "if not os.path.exists(f'{LABELED_PATH}/spectrograms_eq.npy'):\n",
        "  print('Saved .npy not found.  Computing spectrograms...')\n",
        "  spectrograms_eq = compute_stft_spectrograms(wforms_eq)\n",
        "  np.save(f'{LABELED_PATH}/spectrograms_eq', spectrograms_eq)\n",
        "else:\n",
        "  print('Loading saved .npy')\n",
        "  spectrograms_eq = np.load(f'{LABELED_PATH}/spectrograms_eq.npy')\n",
        "\n",
        "print(spectrograms_eq.shape)"
      ],
      "execution_count": null,
      "outputs": [
        {
          "output_type": "stream",
          "text": [
            "Loading saved .npy\n",
            "(5152, 48, 64)\n",
            "Loading saved .npy\n",
            "(1251, 48, 64)\n"
          ],
          "name": "stdout"
        }
      ]
    },
    {
      "cell_type": "markdown",
      "metadata": {
        "id": "j-dXHPdT0gTX"
      },
      "source": [
        "# Load PhaseNet Dataset"
      ]
    },
    {
      "cell_type": "markdown",
      "metadata": {
        "id": "FOMICvhzIKCV"
      },
      "source": [
        "For the following code to work in the absense of the saved .npy files.  The four *.tar.gz files in the data folder must be extracted first."
      ]
    },
    {
      "cell_type": "code",
      "metadata": {
        "colab": {
          "base_uri": "https://localhost:8080/"
        },
        "id": "0ZObk_I2-HNP",
        "outputId": "3fe19a4a-ef54-4846-bef7-483b3ab058f1"
      },
      "source": [
        "if not os.path.exists(f'{PHASENET_PATH}/wforms_phasenet.npy'):\n",
        "  folders = [name for name in os.listdir(PHASENET_PATH) if not (name.endswith('.tar.gz') or name.endswith('.npy'))]\n",
        "  print(f'Number of events: {len(folders)}.  Should be 7,398.')\n",
        "\n",
        "  wforms = []\n",
        "  wforms_downsample = []\n",
        "  timestamps = []\n",
        "\n",
        "  i = 0\n",
        "  for folder in folders:\n",
        "    data = {}\n",
        "    for filename in os.listdir(PHASENET_PATH + f'/{folder}'):\n",
        "      st = read(PHASENET_PATH + f'/{folder}/{filename}')\n",
        "      st.filter('bandpass', freqmin=1.0, freqmax=20.0, corners=2, zerophase=True)\n",
        "      channel = filename[-5]\n",
        "      data[channel] = st[0].data\n",
        "\n",
        "      st_downsample = st.copy()\n",
        "      st_downsample.decimate(5) # Again, 20Hz to keep visualization .json file from getting too large\n",
        "      data[f'{channel}_downsample'] = st_downsample[0].data\n",
        "\n",
        "      if channel == 'E':\n",
        "        timestamps.append(st[0].times(type='timestamp')[0])\n",
        "\n",
        "    wforms.append(np.asarray([data['E'], data['N'], data['Z']]))\n",
        "    wforms_downsample.append(np.asarray([data['E_downsample'], data['N_downsample'], data['Z_downsample']]))\n",
        "\n",
        "    i += 1\n",
        "    if i%100==0:\n",
        "      print(f'{i} events loaded.')\n",
        "\n",
        "  print('Done loading.')\n",
        "\n",
        "  wforms_arr = np.asarray(wforms)\n",
        "  wforms_downsample_arr = np.asarray(wforms_downsample)\n",
        "  timestamps_arr = np.asarray(timestamps)\n",
        "\n",
        "  np.save(f'{PHASENET_PATH}/wforms_phasenet', wforms_arr)\n",
        "  np.save(f'{PHASENET_PATH}/wforms_phasenet_downsample', wforms_downsample_arr)\n",
        "  np.save(f'{PHASENET_PATH}/timestamps_phasenet', timestamps_arr)\n",
        "else:\n",
        "  wforms_arr = np.load(f'{PHASENET_PATH}/wforms_phasenet.npy')\n",
        "  wforms_downsample_arr = np.load(f'{PHASENET_PATH}/wforms_phasenet_downsample.npy')\n",
        "  timestamps_arr = np.load(f'{PHASENET_PATH}/timestamps_phasenet.npy')\n",
        "\n",
        "print(wforms_arr.shape)\n",
        "print(wforms_downsample_arr.shape)\n",
        "print(timestamps_arr.shape)"
      ],
      "execution_count": null,
      "outputs": [
        {
          "output_type": "stream",
          "text": [
            "(7398, 3, 3001)\n",
            "(7398, 3, 601)\n",
            "(7398,)\n"
          ],
          "name": "stdout"
        }
      ]
    },
    {
      "cell_type": "code",
      "metadata": {
        "id": "xc03DboJD33Z",
        "colab": {
          "base_uri": "https://localhost:8080/"
        },
        "outputId": "7aa29462-489d-41f8-a9c6-9f1174539d04"
      },
      "source": [
        "if not os.path.exists(f'{PHASENET_PATH}/spectrograms_phasenet.npy'):\n",
        "  print('Saved .npy not found.  Computing spectrograms...')\n",
        "  spectrograms_phasenet = compute_stft_spectrograms(wforms_arr)\n",
        "  np.save(f'{PHASENET_PATH}/spectrograms_phasenet', spectrograms_phasenet)\n",
        "else:\n",
        "  print('Loading saved .npy')\n",
        "  spectrograms_phasenet = np.load(f'{PHASENET_PATH}/spectrograms_phasenet.npy')\n",
        "\n",
        "print(spectrograms_phasenet.shape)"
      ],
      "execution_count": null,
      "outputs": [
        {
          "output_type": "stream",
          "text": [
            "Loading saved .npy\n",
            "(7398, 48, 64)\n"
          ],
          "name": "stdout"
        }
      ]
    }
  ]
}